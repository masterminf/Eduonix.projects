{
  "nbformat": 4,
  "nbformat_minor": 0,
  "metadata": {
    "colab": {
      "provenance": [],
      "authorship_tag": "ABX9TyNGcNEcml++XG2lNIcalFc4",
      "include_colab_link": true
    },
    "kernelspec": {
      "name": "python3",
      "display_name": "Python 3"
    },
    "language_info": {
      "name": "python"
    }
  },
  "cells": [
    {
      "cell_type": "markdown",
      "metadata": {
        "id": "view-in-github",
        "colab_type": "text"
      },
      "source": [
        "<a href=\"https://colab.research.google.com/github/masterminf/Eduonix.projects/blob/main/ATM_Simulator.ipynb\" target=\"_parent\"><img src=\"https://colab.research.google.com/assets/colab-badge.svg\" alt=\"Open In Colab\"/></a>"
      ]
    },
    {
      "cell_type": "code",
      "execution_count": null,
      "metadata": {
        "id": "Qye5GSRRyDWx"
      },
      "outputs": [],
      "source": [
        "class User:\n",
        "   def __init__(self,pin,balance,name):\n",
        "    self.correct_pin = pin\n",
        "    self.balance = balance\n",
        "    self.name = name\n"
      ]
    },
    {
      "cell_type": "code",
      "source": [
        "def ATM_simulation(user):\n",
        "  print(\"Inser your card\")\n",
        "  print(f\"******welcome {user.name} to ATM Machine Simulator*******\")\n",
        "  correct_pin = int(input(\"enter your pin: \"))\n",
        "  if correct_pin != user.correct_pin:\n",
        "    print(\"You have entered wrong pin\")\n",
        "    print(\"Thank you for visiting\")\n",
        "    return\n",
        "  while True:\n",
        "    print('''\n",
        "           Options you can Exercise are:\n",
        "           1) Balance\n",
        "           2) Withdraw\n",
        "           3) Deposite\n",
        "           4) Exit\n",
        "           ''')\n",
        "    choose = int(input(\"Select your transaction from above options: \"))\n",
        "    if choose == 1:\n",
        "      print(f\"Your available balance is {user.balance}\")\n",
        "\n",
        "    elif choose == 2:\n",
        "      w_amount = int(input(\"Enter Amount: \"))\n",
        "      if w_amount>user.balance:\n",
        "        print(\"Insufficient balance\")\n",
        "        break\n",
        "      else:\n",
        "        print(\"Collect your cash\")\n",
        "        print(f\"Your avaailable balance is {user.balance-w_amount}\")\n",
        "\n",
        "    elif choose == 3:\n",
        "      d_amount=int(input(\"Enter Amount: \"))\n",
        "      print(f\"Your updated balance is {d_amount+user.balance}\")\n",
        "\n",
        "    elif choose == 4:\n",
        "      print(\"Thank You!\")\n",
        "      break\n",
        "\n",
        "    else:\n",
        "      print(\"You have selected wrong choice\")\n",
        "\n",
        "  return\n"
      ],
      "metadata": {
        "id": "wmKBCA3Qy793"
      },
      "execution_count": null,
      "outputs": []
    },
    {
      "cell_type": "code",
      "source": [
        "santosh =User(65566,10000,\"santosh\")"
      ],
      "metadata": {
        "id": "HeUb2PSc5T8U"
      },
      "execution_count": null,
      "outputs": []
    },
    {
      "cell_type": "code",
      "source": [
        "ATM_simulation(santosh)"
      ],
      "metadata": {
        "colab": {
          "base_uri": "https://localhost:8080/"
        },
        "id": "bqUypavL5eAD",
        "outputId": "c1c44cbc-457a-44c9-d476-40beb443efa0"
      },
      "execution_count": null,
      "outputs": [
        {
          "output_type": "stream",
          "name": "stdout",
          "text": [
            "Inser your card\n",
            "******welcome santosh to ATM Machine Simulator*******\n",
            "enter your pin: 65566\n",
            "\n",
            "           Options you can Exercise are:\n",
            "           1) Balance\n",
            "           2) Withdraw\n",
            "           3) Deposite\n",
            "           4) Exit\n",
            "           \n",
            "Select your transaction from above options: 2\n",
            "Enter Amount: 60000\n",
            "Insufficient balance\n"
          ]
        }
      ]
    },
    {
      "cell_type": "code",
      "source": [],
      "metadata": {
        "id": "NP1fgwg65j_-"
      },
      "execution_count": null,
      "outputs": []
    }
  ]
}