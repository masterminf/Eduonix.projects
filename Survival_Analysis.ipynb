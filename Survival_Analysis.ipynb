{
  "nbformat": 4,
  "nbformat_minor": 0,
  "metadata": {
    "colab": {
      "provenance": [],
      "authorship_tag": "ABX9TyNn5jW/28mk4OTeP+CFxsko",
      "include_colab_link": true
    },
    "kernelspec": {
      "name": "python3",
      "display_name": "Python 3"
    },
    "language_info": {
      "name": "python"
    }
  },
  "cells": [
    {
      "cell_type": "markdown",
      "metadata": {
        "id": "view-in-github",
        "colab_type": "text"
      },
      "source": [
        "<a href=\"https://colab.research.google.com/github/masterminf/Eduonix.projects/blob/main/Survival_Analysis.ipynb\" target=\"_parent\"><img src=\"https://colab.research.google.com/assets/colab-badge.svg\" alt=\"Open In Colab\"/></a>"
      ]
    },
    {
      "cell_type": "code",
      "execution_count": null,
      "metadata": {
        "id": "OG2Vgf44LmFZ"
      },
      "outputs": [],
      "source": [
        "def Survival_Analysis():\n",
        "  print(\"Welcome to survival duration calculator\")\n",
        "  age = int(input(\"What is your age? \"))\n",
        "  print('''\n",
        "          Select time unit\n",
        "          1)Month\n",
        "          2)Weeks\n",
        "          3)Days\n",
        "          4)Hours\n",
        "          5)Minutes\n",
        "          6)Seconds\n",
        "          ''' )\n",
        "  unit = int(input(\"Please select time unit from above options: \"))\n",
        "  if unit == 1:\n",
        "     print(f\"You lived for {age*12} months\")\n",
        "  elif unit == 2:\n",
        "    print(f\"You have lived for {age*52} weeks\")\n",
        "  elif unit == 3:\n",
        "    print(f\"You have lied for {age*365} days\")\n",
        "  elif unit == 4:\n",
        "    print(f\"you have lived for {age*365*24} hours\")\n",
        "  elif unit == 5:\n",
        "    print(f\"you have lived for {age*365*24*60} minutes\")\n",
        "  elif unit == 6:\n",
        "    print(f\"you have lived for {age*365*24*60*60} seconds\")\n",
        "  else:\n",
        "    print(\"invalid time unit selected\")\n",
        "\n",
        "\n",
        "\n"
      ]
    },
    {
      "cell_type": "code",
      "source": [
        "Survival_Analysis()"
      ],
      "metadata": {
        "colab": {
          "base_uri": "https://localhost:8080/"
        },
        "id": "2MxlCFNRdb55",
        "outputId": "17bd6d80-7b22-4d73-d8ce-ba7de35e6636"
      },
      "execution_count": null,
      "outputs": [
        {
          "output_type": "stream",
          "name": "stdout",
          "text": [
            "Welcome to survival duration calculator\n",
            "What is your age? 10\n",
            "\n",
            "          Select time unit\n",
            "          1)Month\n",
            "          2)Weeks\n",
            "          3)Days\n",
            "          4)Hours\n",
            "          5)Minutes\n",
            "          6)Seconds\n",
            "          \n",
            "Please select time unit from above options: 1\n",
            "You lived for 120 months\n"
          ]
        }
      ]
    }
  ]
}